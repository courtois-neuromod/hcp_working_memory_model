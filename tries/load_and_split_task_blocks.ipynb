{
  "nbformat": 4,
  "nbformat_minor": 0,
  "metadata": {
    "colab": {
      "name": "load-and-split-task-blocks.ipynb",
      "provenance": [],
      "collapsed_sections": [],
      "toc_visible": true,
      "machine_shape": "hm"
    },
    "kernelspec": {
      "name": "python3",
      "display_name": "Python 3"
    },
    "accelerator": "GPU"
  },
  "cells": [
    {
      "cell_type": "code",
      "metadata": {
        "id": "5yDAYDxBpu9_",
        "colab_type": "code",
        "colab": {}
      },
      "source": [
        "PATH = 'Brain-Explore/'"
      ],
      "execution_count": 0,
      "outputs": []
    },
    {
      "cell_type": "code",
      "metadata": {
        "id": "Ic_MJjTGoGg3",
        "colab_type": "code",
        "colab": {}
      },
      "source": [
        "import numpy as np\n",
        "\n",
        "import pandas as pd\n",
        "\n",
        "from nilearn.input_data import NiftiMasker\n",
        "\n",
        "from load_confounds import load_confounds"
      ],
      "execution_count": 0,
      "outputs": []
    },
    {
      "cell_type": "code",
      "metadata": {
        "id": "zZEHyRCpLKcY",
        "colab_type": "code",
        "colab": {}
      },
      "source": [
        "bold_file = 'sub-01_ses-001_task-wm_run-01_space-MNI152NLin2009cAsym_desc-preproc_bold.nii.gz'\n",
        "\n",
        "mask_file = 'sub-01_ses-001_task-wm_run-01_space-MNI152NLin2009cAsym_desc-brain_mask.nii.gz'\n",
        "\n",
        "cnf_file = 'sub-01_ses-001_task-wm_run-01_desc-confounds_regressors.tsv'\n",
        "\n",
        "eprime_csv_file = 'p01_WM_run1.csv'"
      ],
      "execution_count": 0,
      "outputs": []
    },
    {
      "cell_type": "markdown",
      "metadata": {
        "id": "Xfok7cLhbCng",
        "colab_type": "text"
      },
      "source": [
        "## Task Block time extraction"
      ]
    },
    {
      "cell_type": "code",
      "metadata": {
        "id": "uMjCDGz8mqQ-",
        "colab_type": "code",
        "colab": {}
      },
      "source": [
        "# Extract task cue and fixation blocks from the Procedure column \n",
        "\n",
        "def get_task_procs(run):\n",
        "\n",
        "  procs = run['Procedure'].dropna()\n",
        "  indices = np.logical_or.reduce([procs.str.contains(i) for i in ['Cue','Fix']])\n",
        "  return procs[indices].reset_index(drop=True)"
      ],
      "execution_count": 0,
      "outputs": []
    },
    {
      "cell_type": "code",
      "metadata": {
        "id": "-RJI1XJKdHtI",
        "colab_type": "code",
        "colab": {}
      },
      "source": [
        "# Check that the order of the blocks are 2 cue tasks followed by 1 fixation  \n",
        "\n",
        "def check_procs_order(procs):\n",
        "\n",
        "  for i in np.arange(0,len(procs),3):\n",
        "    assert 'Cue' in procs[i] and 'Cue' in procs[i+1], \"CueNBackPROC block not found in expected order\"\n",
        "    assert procs[i+2] == 'Fix15secPROC', \"Fix15secPROC block not found in expected order\"\n",
        "\n",
        "  print(\"The task blocks are in expected order as defined by the protocol\")"
      ],
      "execution_count": 0,
      "outputs": []
    },
    {
      "cell_type": "code",
      "metadata": {
        "id": "7qhXZ7s9bREf",
        "colab_type": "code",
        "colab": {}
      },
      "source": [
        "run1 = pd.read_csv(PATH + eprime_csv_file)"
      ],
      "execution_count": 0,
      "outputs": []
    },
    {
      "cell_type": "code",
      "metadata": {
        "id": "NVvT1tpsj3gN",
        "colab_type": "code",
        "outputId": "6b3b599f-708d-4d98-eaf8-eed3c5848e18",
        "colab": {
          "base_uri": "https://localhost:8080/",
          "height": 34
        }
      },
      "source": [
        "procs = get_task_procs(run1)\n",
        "check_procs_order(procs)"
      ],
      "execution_count": 18,
      "outputs": [
        {
          "output_type": "stream",
          "text": [
            "The task blocks are in expected order as defined by the protocol\n"
          ],
          "name": "stdout"
        }
      ]
    },
    {
      "cell_type": "code",
      "metadata": {
        "id": "ZEzT8AzKqPRL",
        "colab_type": "code",
        "colab": {}
      },
      "source": [
        "# Extract the columns that indicate the block labels - task type and stimulus type\n",
        "\n",
        "def get_block_labels(run):\n",
        "  \n",
        "  labels = run[['BlockType', 'StimType']].dropna().drop_duplicates().reset_index(drop=True)\n",
        "  labels.columns = ['block_type','stim_type']\n",
        "  return labels"
      ],
      "execution_count": 0,
      "outputs": []
    },
    {
      "cell_type": "code",
      "metadata": {
        "id": "XPQaqMHz8heg",
        "colab_type": "code",
        "colab": {}
      },
      "source": [
        "# Return an iterator for the specified onset time attribute\n",
        "\n",
        "def iterator(run, name):\n",
        "\n",
        "  onset = '{}.OnsetTime'\n",
        "  return iter(run[onset.format(name)].dropna().values)  "
      ],
      "execution_count": 0,
      "outputs": []
    },
    {
      "cell_type": "code",
      "metadata": {
        "id": "QFki8j3_PF4o",
        "colab_type": "code",
        "colab": {}
      },
      "source": [
        "# Compute the start and end times of each of the task blocks based on the order\n",
        "\n",
        "def get_block_times(run, blocks):\n",
        "\n",
        "  cue_2b_onsets = iterator(run, 'Cue2Back')\n",
        "  cue_0b_onsets = iterator(run, 'CueTarget') \n",
        "  fix_onsets = iterator(run, 'Fix15sec') \n",
        "  \n",
        "  new_cols = ['start_time', 'end_time']\n",
        "  blocks = blocks.reindex(columns = blocks.columns.tolist() + new_cols)\n",
        "\n",
        "  for index, item in blocks.iterrows():\n",
        "    blocks.at[index,'start_time'] = next(cue_2b_onsets) if item['block_type'] == '2-Back' else next(cue_0b_onsets)\n",
        "    \n",
        "  for index, item in blocks.iterrows():\n",
        "    blocks.at[index,'end_time'] = blocks.at[index+1,'start_time'] if index % 2 == 0 else next(fix_onsets)\n",
        "\n",
        "  return blocks"
      ],
      "execution_count": 0,
      "outputs": []
    },
    {
      "cell_type": "code",
      "metadata": {
        "id": "Xpo0kvAyL0H_",
        "colab_type": "code",
        "outputId": "403fb127-ede0-40cd-b7bb-25c9b21f5e1d",
        "colab": {
          "base_uri": "https://localhost:8080/",
          "height": 297
        }
      },
      "source": [
        "blocks = get_block_labels(run1)\n",
        "blocks"
      ],
      "execution_count": 22,
      "outputs": [
        {
          "output_type": "execute_result",
          "data": {
            "text/html": [
              "<div>\n",
              "<style scoped>\n",
              "    .dataframe tbody tr th:only-of-type {\n",
              "        vertical-align: middle;\n",
              "    }\n",
              "\n",
              "    .dataframe tbody tr th {\n",
              "        vertical-align: top;\n",
              "    }\n",
              "\n",
              "    .dataframe thead th {\n",
              "        text-align: right;\n",
              "    }\n",
              "</style>\n",
              "<table border=\"1\" class=\"dataframe\">\n",
              "  <thead>\n",
              "    <tr style=\"text-align: right;\">\n",
              "      <th></th>\n",
              "      <th>block_type</th>\n",
              "      <th>stim_type</th>\n",
              "    </tr>\n",
              "  </thead>\n",
              "  <tbody>\n",
              "    <tr>\n",
              "      <th>0</th>\n",
              "      <td>2-Back</td>\n",
              "      <td>Body</td>\n",
              "    </tr>\n",
              "    <tr>\n",
              "      <th>1</th>\n",
              "      <td>0-Back</td>\n",
              "      <td>Face</td>\n",
              "    </tr>\n",
              "    <tr>\n",
              "      <th>2</th>\n",
              "      <td>2-Back</td>\n",
              "      <td>Tools</td>\n",
              "    </tr>\n",
              "    <tr>\n",
              "      <th>3</th>\n",
              "      <td>0-Back</td>\n",
              "      <td>Body</td>\n",
              "    </tr>\n",
              "    <tr>\n",
              "      <th>4</th>\n",
              "      <td>0-Back</td>\n",
              "      <td>Place</td>\n",
              "    </tr>\n",
              "    <tr>\n",
              "      <th>5</th>\n",
              "      <td>2-Back</td>\n",
              "      <td>Face</td>\n",
              "    </tr>\n",
              "    <tr>\n",
              "      <th>6</th>\n",
              "      <td>0-Back</td>\n",
              "      <td>Tools</td>\n",
              "    </tr>\n",
              "    <tr>\n",
              "      <th>7</th>\n",
              "      <td>2-Back</td>\n",
              "      <td>Place</td>\n",
              "    </tr>\n",
              "  </tbody>\n",
              "</table>\n",
              "</div>"
            ],
            "text/plain": [
              "  block_type stim_type\n",
              "0     2-Back      Body\n",
              "1     0-Back      Face\n",
              "2     2-Back     Tools\n",
              "3     0-Back      Body\n",
              "4     0-Back     Place\n",
              "5     2-Back      Face\n",
              "6     0-Back     Tools\n",
              "7     2-Back     Place"
            ]
          },
          "metadata": {
            "tags": []
          },
          "execution_count": 22
        }
      ]
    },
    {
      "cell_type": "code",
      "metadata": {
        "id": "Te3cIvmbL68L",
        "colab_type": "code",
        "outputId": "c514e22f-733e-4c92-d083-447ae4dfcdc6",
        "colab": {
          "base_uri": "https://localhost:8080/",
          "height": 297
        }
      },
      "source": [
        "blocks = get_block_times(run1, blocks)\n",
        "blocks"
      ],
      "execution_count": 23,
      "outputs": [
        {
          "output_type": "execute_result",
          "data": {
            "text/html": [
              "<div>\n",
              "<style scoped>\n",
              "    .dataframe tbody tr th:only-of-type {\n",
              "        vertical-align: middle;\n",
              "    }\n",
              "\n",
              "    .dataframe tbody tr th {\n",
              "        vertical-align: top;\n",
              "    }\n",
              "\n",
              "    .dataframe thead th {\n",
              "        text-align: right;\n",
              "    }\n",
              "</style>\n",
              "<table border=\"1\" class=\"dataframe\">\n",
              "  <thead>\n",
              "    <tr style=\"text-align: right;\">\n",
              "      <th></th>\n",
              "      <th>block_type</th>\n",
              "      <th>stim_type</th>\n",
              "      <th>start_time</th>\n",
              "      <th>end_time</th>\n",
              "    </tr>\n",
              "  </thead>\n",
              "  <tbody>\n",
              "    <tr>\n",
              "      <th>0</th>\n",
              "      <td>2-Back</td>\n",
              "      <td>Body</td>\n",
              "      <td>42456.0</td>\n",
              "      <td>70321.0</td>\n",
              "    </tr>\n",
              "    <tr>\n",
              "      <th>1</th>\n",
              "      <td>0-Back</td>\n",
              "      <td>Face</td>\n",
              "      <td>70321.0</td>\n",
              "      <td>98151.0</td>\n",
              "    </tr>\n",
              "    <tr>\n",
              "      <th>2</th>\n",
              "      <td>2-Back</td>\n",
              "      <td>Tools</td>\n",
              "      <td>113152.0</td>\n",
              "      <td>140984.0</td>\n",
              "    </tr>\n",
              "    <tr>\n",
              "      <th>3</th>\n",
              "      <td>0-Back</td>\n",
              "      <td>Body</td>\n",
              "      <td>140984.0</td>\n",
              "      <td>168812.0</td>\n",
              "    </tr>\n",
              "    <tr>\n",
              "      <th>4</th>\n",
              "      <td>0-Back</td>\n",
              "      <td>Place</td>\n",
              "      <td>183815.0</td>\n",
              "      <td>211646.0</td>\n",
              "    </tr>\n",
              "    <tr>\n",
              "      <th>5</th>\n",
              "      <td>2-Back</td>\n",
              "      <td>Face</td>\n",
              "      <td>211646.0</td>\n",
              "      <td>239472.0</td>\n",
              "    </tr>\n",
              "    <tr>\n",
              "      <th>6</th>\n",
              "      <td>0-Back</td>\n",
              "      <td>Tools</td>\n",
              "      <td>254477.0</td>\n",
              "      <td>282309.0</td>\n",
              "    </tr>\n",
              "    <tr>\n",
              "      <th>7</th>\n",
              "      <td>2-Back</td>\n",
              "      <td>Place</td>\n",
              "      <td>282309.0</td>\n",
              "      <td>310132.0</td>\n",
              "    </tr>\n",
              "  </tbody>\n",
              "</table>\n",
              "</div>"
            ],
            "text/plain": [
              "  block_type stim_type  start_time  end_time\n",
              "0     2-Back      Body     42456.0   70321.0\n",
              "1     0-Back      Face     70321.0   98151.0\n",
              "2     2-Back     Tools    113152.0  140984.0\n",
              "3     0-Back      Body    140984.0  168812.0\n",
              "4     0-Back     Place    183815.0  211646.0\n",
              "5     2-Back      Face    211646.0  239472.0\n",
              "6     0-Back     Tools    254477.0  282309.0\n",
              "7     2-Back     Place    282309.0  310132.0"
            ]
          },
          "metadata": {
            "tags": []
          },
          "execution_count": 23
        }
      ]
    },
    {
      "cell_type": "code",
      "metadata": {
        "id": "XxFRroikV0qA",
        "colab_type": "code",
        "colab": {}
      },
      "source": [
        "# Calibrate the times to start from zero by subtracting with the sync onset time\n",
        "\n",
        "def adjust_block_times(run, blocks):\n",
        "\n",
        "  sync_start_time = run['SyncSlide.OnsetTime'].dropna().values[0]\n",
        "  blocks['start_time'] -= sync_start_time\n",
        "  blocks['end_time'] -= sync_start_time\n",
        "\n",
        "  return blocks\n"
      ],
      "execution_count": 0,
      "outputs": []
    },
    {
      "cell_type": "code",
      "metadata": {
        "id": "GmRLt_xulQXP",
        "colab_type": "code",
        "outputId": "76434c95-40e7-4204-d514-21b977df0301",
        "colab": {
          "base_uri": "https://localhost:8080/",
          "height": 297
        }
      },
      "source": [
        "adjust_block_times(run1, blocks)"
      ],
      "execution_count": 25,
      "outputs": [
        {
          "output_type": "execute_result",
          "data": {
            "text/html": [
              "<div>\n",
              "<style scoped>\n",
              "    .dataframe tbody tr th:only-of-type {\n",
              "        vertical-align: middle;\n",
              "    }\n",
              "\n",
              "    .dataframe tbody tr th {\n",
              "        vertical-align: top;\n",
              "    }\n",
              "\n",
              "    .dataframe thead th {\n",
              "        text-align: right;\n",
              "    }\n",
              "</style>\n",
              "<table border=\"1\" class=\"dataframe\">\n",
              "  <thead>\n",
              "    <tr style=\"text-align: right;\">\n",
              "      <th></th>\n",
              "      <th>block_type</th>\n",
              "      <th>stim_type</th>\n",
              "      <th>start_time</th>\n",
              "      <th>end_time</th>\n",
              "    </tr>\n",
              "  </thead>\n",
              "  <tbody>\n",
              "    <tr>\n",
              "      <th>0</th>\n",
              "      <td>2-Back</td>\n",
              "      <td>Body</td>\n",
              "      <td>8013.0</td>\n",
              "      <td>35878.0</td>\n",
              "    </tr>\n",
              "    <tr>\n",
              "      <th>1</th>\n",
              "      <td>0-Back</td>\n",
              "      <td>Face</td>\n",
              "      <td>35878.0</td>\n",
              "      <td>63708.0</td>\n",
              "    </tr>\n",
              "    <tr>\n",
              "      <th>2</th>\n",
              "      <td>2-Back</td>\n",
              "      <td>Tools</td>\n",
              "      <td>78709.0</td>\n",
              "      <td>106541.0</td>\n",
              "    </tr>\n",
              "    <tr>\n",
              "      <th>3</th>\n",
              "      <td>0-Back</td>\n",
              "      <td>Body</td>\n",
              "      <td>106541.0</td>\n",
              "      <td>134369.0</td>\n",
              "    </tr>\n",
              "    <tr>\n",
              "      <th>4</th>\n",
              "      <td>0-Back</td>\n",
              "      <td>Place</td>\n",
              "      <td>149372.0</td>\n",
              "      <td>177203.0</td>\n",
              "    </tr>\n",
              "    <tr>\n",
              "      <th>5</th>\n",
              "      <td>2-Back</td>\n",
              "      <td>Face</td>\n",
              "      <td>177203.0</td>\n",
              "      <td>205029.0</td>\n",
              "    </tr>\n",
              "    <tr>\n",
              "      <th>6</th>\n",
              "      <td>0-Back</td>\n",
              "      <td>Tools</td>\n",
              "      <td>220034.0</td>\n",
              "      <td>247866.0</td>\n",
              "    </tr>\n",
              "    <tr>\n",
              "      <th>7</th>\n",
              "      <td>2-Back</td>\n",
              "      <td>Place</td>\n",
              "      <td>247866.0</td>\n",
              "      <td>275689.0</td>\n",
              "    </tr>\n",
              "  </tbody>\n",
              "</table>\n",
              "</div>"
            ],
            "text/plain": [
              "  block_type stim_type  start_time  end_time\n",
              "0     2-Back      Body      8013.0   35878.0\n",
              "1     0-Back      Face     35878.0   63708.0\n",
              "2     2-Back     Tools     78709.0  106541.0\n",
              "3     0-Back      Body    106541.0  134369.0\n",
              "4     0-Back     Place    149372.0  177203.0\n",
              "5     2-Back      Face    177203.0  205029.0\n",
              "6     0-Back     Tools    220034.0  247866.0\n",
              "7     2-Back     Place    247866.0  275689.0"
            ]
          },
          "metadata": {
            "tags": []
          },
          "execution_count": 25
        }
      ]
    },
    {
      "cell_type": "code",
      "metadata": {
        "id": "QES-w4bIlXyt",
        "colab_type": "code",
        "colab": {}
      },
      "source": [
        "# Compute block duration from start and end times\n",
        "\n",
        "def compute_block_durations(blocks):\n",
        "\n",
        "  blocks['duration'] = blocks['end_time'] - blocks['start_time']\n",
        "  return blocks"
      ],
      "execution_count": 0,
      "outputs": []
    },
    {
      "cell_type": "code",
      "metadata": {
        "id": "PigimKrEMRgx",
        "colab_type": "code",
        "outputId": "55af65ed-8150-40e9-f558-7582cd5d02e9",
        "colab": {
          "base_uri": "https://localhost:8080/",
          "height": 297
        }
      },
      "source": [
        "blocks = compute_block_durations(blocks)\n",
        "blocks"
      ],
      "execution_count": 27,
      "outputs": [
        {
          "output_type": "execute_result",
          "data": {
            "text/html": [
              "<div>\n",
              "<style scoped>\n",
              "    .dataframe tbody tr th:only-of-type {\n",
              "        vertical-align: middle;\n",
              "    }\n",
              "\n",
              "    .dataframe tbody tr th {\n",
              "        vertical-align: top;\n",
              "    }\n",
              "\n",
              "    .dataframe thead th {\n",
              "        text-align: right;\n",
              "    }\n",
              "</style>\n",
              "<table border=\"1\" class=\"dataframe\">\n",
              "  <thead>\n",
              "    <tr style=\"text-align: right;\">\n",
              "      <th></th>\n",
              "      <th>block_type</th>\n",
              "      <th>stim_type</th>\n",
              "      <th>start_time</th>\n",
              "      <th>end_time</th>\n",
              "      <th>duration</th>\n",
              "    </tr>\n",
              "  </thead>\n",
              "  <tbody>\n",
              "    <tr>\n",
              "      <th>0</th>\n",
              "      <td>2-Back</td>\n",
              "      <td>Body</td>\n",
              "      <td>8013.0</td>\n",
              "      <td>35878.0</td>\n",
              "      <td>27865.0</td>\n",
              "    </tr>\n",
              "    <tr>\n",
              "      <th>1</th>\n",
              "      <td>0-Back</td>\n",
              "      <td>Face</td>\n",
              "      <td>35878.0</td>\n",
              "      <td>63708.0</td>\n",
              "      <td>27830.0</td>\n",
              "    </tr>\n",
              "    <tr>\n",
              "      <th>2</th>\n",
              "      <td>2-Back</td>\n",
              "      <td>Tools</td>\n",
              "      <td>78709.0</td>\n",
              "      <td>106541.0</td>\n",
              "      <td>27832.0</td>\n",
              "    </tr>\n",
              "    <tr>\n",
              "      <th>3</th>\n",
              "      <td>0-Back</td>\n",
              "      <td>Body</td>\n",
              "      <td>106541.0</td>\n",
              "      <td>134369.0</td>\n",
              "      <td>27828.0</td>\n",
              "    </tr>\n",
              "    <tr>\n",
              "      <th>4</th>\n",
              "      <td>0-Back</td>\n",
              "      <td>Place</td>\n",
              "      <td>149372.0</td>\n",
              "      <td>177203.0</td>\n",
              "      <td>27831.0</td>\n",
              "    </tr>\n",
              "    <tr>\n",
              "      <th>5</th>\n",
              "      <td>2-Back</td>\n",
              "      <td>Face</td>\n",
              "      <td>177203.0</td>\n",
              "      <td>205029.0</td>\n",
              "      <td>27826.0</td>\n",
              "    </tr>\n",
              "    <tr>\n",
              "      <th>6</th>\n",
              "      <td>0-Back</td>\n",
              "      <td>Tools</td>\n",
              "      <td>220034.0</td>\n",
              "      <td>247866.0</td>\n",
              "      <td>27832.0</td>\n",
              "    </tr>\n",
              "    <tr>\n",
              "      <th>7</th>\n",
              "      <td>2-Back</td>\n",
              "      <td>Place</td>\n",
              "      <td>247866.0</td>\n",
              "      <td>275689.0</td>\n",
              "      <td>27823.0</td>\n",
              "    </tr>\n",
              "  </tbody>\n",
              "</table>\n",
              "</div>"
            ],
            "text/plain": [
              "  block_type stim_type  start_time  end_time  duration\n",
              "0     2-Back      Body      8013.0   35878.0   27865.0\n",
              "1     0-Back      Face     35878.0   63708.0   27830.0\n",
              "2     2-Back     Tools     78709.0  106541.0   27832.0\n",
              "3     0-Back      Body    106541.0  134369.0   27828.0\n",
              "4     0-Back     Place    149372.0  177203.0   27831.0\n",
              "5     2-Back      Face    177203.0  205029.0   27826.0\n",
              "6     0-Back     Tools    220034.0  247866.0   27832.0\n",
              "7     2-Back     Place    247866.0  275689.0   27823.0"
            ]
          },
          "metadata": {
            "tags": []
          },
          "execution_count": 27
        }
      ]
    },
    {
      "cell_type": "code",
      "metadata": {
        "id": "C2DOAgXr8cGF",
        "colab_type": "code",
        "outputId": "f09e23ce-0d12-4394-f46d-5003923421c7",
        "colab": {
          "base_uri": "https://localhost:8080/",
          "height": 459
        }
      },
      "source": [
        "TR = 1490\n",
        "NUM_FRAMES = 202\n",
        "\n",
        "frames = np.arange(NUM_FRAMES) * TR\n",
        "\n",
        "frames"
      ],
      "execution_count": 28,
      "outputs": [
        {
          "output_type": "execute_result",
          "data": {
            "text/plain": [
              "array([     0,   1490,   2980,   4470,   5960,   7450,   8940,  10430,\n",
              "        11920,  13410,  14900,  16390,  17880,  19370,  20860,  22350,\n",
              "        23840,  25330,  26820,  28310,  29800,  31290,  32780,  34270,\n",
              "        35760,  37250,  38740,  40230,  41720,  43210,  44700,  46190,\n",
              "        47680,  49170,  50660,  52150,  53640,  55130,  56620,  58110,\n",
              "        59600,  61090,  62580,  64070,  65560,  67050,  68540,  70030,\n",
              "        71520,  73010,  74500,  75990,  77480,  78970,  80460,  81950,\n",
              "        83440,  84930,  86420,  87910,  89400,  90890,  92380,  93870,\n",
              "        95360,  96850,  98340,  99830, 101320, 102810, 104300, 105790,\n",
              "       107280, 108770, 110260, 111750, 113240, 114730, 116220, 117710,\n",
              "       119200, 120690, 122180, 123670, 125160, 126650, 128140, 129630,\n",
              "       131120, 132610, 134100, 135590, 137080, 138570, 140060, 141550,\n",
              "       143040, 144530, 146020, 147510, 149000, 150490, 151980, 153470,\n",
              "       154960, 156450, 157940, 159430, 160920, 162410, 163900, 165390,\n",
              "       166880, 168370, 169860, 171350, 172840, 174330, 175820, 177310,\n",
              "       178800, 180290, 181780, 183270, 184760, 186250, 187740, 189230,\n",
              "       190720, 192210, 193700, 195190, 196680, 198170, 199660, 201150,\n",
              "       202640, 204130, 205620, 207110, 208600, 210090, 211580, 213070,\n",
              "       214560, 216050, 217540, 219030, 220520, 222010, 223500, 224990,\n",
              "       226480, 227970, 229460, 230950, 232440, 233930, 235420, 236910,\n",
              "       238400, 239890, 241380, 242870, 244360, 245850, 247340, 248830,\n",
              "       250320, 251810, 253300, 254790, 256280, 257770, 259260, 260750,\n",
              "       262240, 263730, 265220, 266710, 268200, 269690, 271180, 272670,\n",
              "       274160, 275650, 277140, 278630, 280120, 281610, 283100, 284590,\n",
              "       286080, 287570, 289060, 290550, 292040, 293530, 295020, 296510,\n",
              "       298000, 299490])"
            ]
          },
          "metadata": {
            "tags": []
          },
          "execution_count": 28
        }
      ]
    },
    {
      "cell_type": "code",
      "metadata": {
        "id": "i-b47XdTnTdX",
        "colab_type": "code",
        "colab": {}
      },
      "source": [
        "# Compute the frmae indices of the time series based on block times and TR with adjustment(#TRs) for hemodynamic delay\n",
        "\n",
        "def compute_frame_indices(blocks, TR, adjustment=0):\n",
        "\n",
        "  blocks['start_index'] = np.ceil(blocks['start_time']/TR).astype(np.int64) + adjustment\n",
        "  blocks['end_index'] = np.ceil(blocks['end_time']/TR).astype(np.int64) + adjustment\n",
        "  blocks['num_frames'] = np.ceil(blocks['duration']/TR).astype(np.int64) + adjustment\n",
        "\n",
        "  return blocks"
      ],
      "execution_count": 0,
      "outputs": []
    },
    {
      "cell_type": "code",
      "metadata": {
        "id": "8vnfeWDbn8Mb",
        "colab_type": "code",
        "outputId": "7509e18f-c482-4fc0-a0f8-cc55f6ee5444",
        "colab": {
          "base_uri": "https://localhost:8080/",
          "height": 297
        }
      },
      "source": [
        "blocks = compute_frame_indices(blocks, TR)\n",
        "blocks"
      ],
      "execution_count": 31,
      "outputs": [
        {
          "output_type": "execute_result",
          "data": {
            "text/html": [
              "<div>\n",
              "<style scoped>\n",
              "    .dataframe tbody tr th:only-of-type {\n",
              "        vertical-align: middle;\n",
              "    }\n",
              "\n",
              "    .dataframe tbody tr th {\n",
              "        vertical-align: top;\n",
              "    }\n",
              "\n",
              "    .dataframe thead th {\n",
              "        text-align: right;\n",
              "    }\n",
              "</style>\n",
              "<table border=\"1\" class=\"dataframe\">\n",
              "  <thead>\n",
              "    <tr style=\"text-align: right;\">\n",
              "      <th></th>\n",
              "      <th>block_type</th>\n",
              "      <th>stim_type</th>\n",
              "      <th>start_time</th>\n",
              "      <th>end_time</th>\n",
              "      <th>duration</th>\n",
              "      <th>start_index</th>\n",
              "      <th>end_index</th>\n",
              "      <th>num_frames</th>\n",
              "    </tr>\n",
              "  </thead>\n",
              "  <tbody>\n",
              "    <tr>\n",
              "      <th>0</th>\n",
              "      <td>2-Back</td>\n",
              "      <td>Body</td>\n",
              "      <td>8013.0</td>\n",
              "      <td>35878.0</td>\n",
              "      <td>27865.0</td>\n",
              "      <td>6</td>\n",
              "      <td>25</td>\n",
              "      <td>19</td>\n",
              "    </tr>\n",
              "    <tr>\n",
              "      <th>1</th>\n",
              "      <td>0-Back</td>\n",
              "      <td>Face</td>\n",
              "      <td>35878.0</td>\n",
              "      <td>63708.0</td>\n",
              "      <td>27830.0</td>\n",
              "      <td>25</td>\n",
              "      <td>43</td>\n",
              "      <td>19</td>\n",
              "    </tr>\n",
              "    <tr>\n",
              "      <th>2</th>\n",
              "      <td>2-Back</td>\n",
              "      <td>Tools</td>\n",
              "      <td>78709.0</td>\n",
              "      <td>106541.0</td>\n",
              "      <td>27832.0</td>\n",
              "      <td>53</td>\n",
              "      <td>72</td>\n",
              "      <td>19</td>\n",
              "    </tr>\n",
              "    <tr>\n",
              "      <th>3</th>\n",
              "      <td>0-Back</td>\n",
              "      <td>Body</td>\n",
              "      <td>106541.0</td>\n",
              "      <td>134369.0</td>\n",
              "      <td>27828.0</td>\n",
              "      <td>72</td>\n",
              "      <td>91</td>\n",
              "      <td>19</td>\n",
              "    </tr>\n",
              "    <tr>\n",
              "      <th>4</th>\n",
              "      <td>0-Back</td>\n",
              "      <td>Place</td>\n",
              "      <td>149372.0</td>\n",
              "      <td>177203.0</td>\n",
              "      <td>27831.0</td>\n",
              "      <td>101</td>\n",
              "      <td>119</td>\n",
              "      <td>19</td>\n",
              "    </tr>\n",
              "    <tr>\n",
              "      <th>5</th>\n",
              "      <td>2-Back</td>\n",
              "      <td>Face</td>\n",
              "      <td>177203.0</td>\n",
              "      <td>205029.0</td>\n",
              "      <td>27826.0</td>\n",
              "      <td>119</td>\n",
              "      <td>138</td>\n",
              "      <td>19</td>\n",
              "    </tr>\n",
              "    <tr>\n",
              "      <th>6</th>\n",
              "      <td>0-Back</td>\n",
              "      <td>Tools</td>\n",
              "      <td>220034.0</td>\n",
              "      <td>247866.0</td>\n",
              "      <td>27832.0</td>\n",
              "      <td>148</td>\n",
              "      <td>167</td>\n",
              "      <td>19</td>\n",
              "    </tr>\n",
              "    <tr>\n",
              "      <th>7</th>\n",
              "      <td>2-Back</td>\n",
              "      <td>Place</td>\n",
              "      <td>247866.0</td>\n",
              "      <td>275689.0</td>\n",
              "      <td>27823.0</td>\n",
              "      <td>167</td>\n",
              "      <td>186</td>\n",
              "      <td>19</td>\n",
              "    </tr>\n",
              "  </tbody>\n",
              "</table>\n",
              "</div>"
            ],
            "text/plain": [
              "  block_type stim_type  start_time  ...  start_index  end_index  num_frames\n",
              "0     2-Back      Body      8013.0  ...            6         25          19\n",
              "1     0-Back      Face     35878.0  ...           25         43          19\n",
              "2     2-Back     Tools     78709.0  ...           53         72          19\n",
              "3     0-Back      Body    106541.0  ...           72         91          19\n",
              "4     0-Back     Place    149372.0  ...          101        119          19\n",
              "5     2-Back      Face    177203.0  ...          119        138          19\n",
              "6     0-Back     Tools    220034.0  ...          148        167          19\n",
              "7     2-Back     Place    247866.0  ...          167        186          19\n",
              "\n",
              "[8 rows x 8 columns]"
            ]
          },
          "metadata": {
            "tags": []
          },
          "execution_count": 31
        }
      ]
    },
    {
      "cell_type": "markdown",
      "metadata": {
        "id": "WraZWhb4bxry",
        "colab_type": "text"
      },
      "source": [
        "## Loading confounds in masker to obtain  BOLD data time series"
      ]
    },
    {
      "cell_type": "code",
      "metadata": {
        "id": "wlTXG1h3yPxX",
        "colab_type": "code",
        "outputId": "5d81f4fb-72a9-4637-a162-1024ce3adde5",
        "colab": {
          "base_uri": "https://localhost:8080/",
          "height": 68
        }
      },
      "source": [
        "confounds = load_confounds(PATH + cnf_file, strategy=[\"minimal\"], n_components=0.95, motion_model=\"6params\")\n",
        "\n",
        "## Imputation with mean for the csf_derivatives and white_matter_derivatives NaNs for first row\n",
        "confounds.fillna(confounds.mean(), inplace=True)\n",
        "\n",
        "# cnf = confounds.to_numpy()\n",
        "# assert (np.sum(np.isnan(cnf))==0),\"Confounds contain NaNs!\"\n",
        "# assert (np.sum(np.isinf(cnf))==0),\"Confounds contain infs!\"\n",
        "\n",
        "masker = NiftiMasker(mask_img= PATH + mask_file, standardize=True)\n",
        "series = masker.fit_transform(PATH + bold_file, confounds = confounds.to_numpy())\n",
        "\n",
        "(num_frames, num_channels) = series.shape\n",
        "\n",
        "print(\"series shape = \", series.shape)\n",
        "\n",
        "print(\"# frames = \", num_frames)\n",
        "print(\"# voxels = \", num_channels)"
      ],
      "execution_count": 37,
      "outputs": [
        {
          "output_type": "stream",
          "text": [
            "series shape =  (202, 249518)\n",
            "# frames =  202\n",
            "# voxels =  249518\n"
          ],
          "name": "stdout"
        }
      ]
    },
    {
      "cell_type": "markdown",
      "metadata": {
        "id": "CWrBy7iogzXi",
        "colab_type": "text"
      },
      "source": [
        "## Segmenting BOLD data time series into task blocks"
      ]
    },
    {
      "cell_type": "code",
      "metadata": {
        "id": "otcmhIwPghbY",
        "colab_type": "code",
        "colab": {}
      },
      "source": [
        "# Get the file name for saving the task block series\n",
        "\n",
        "def get_series_name(item):\n",
        "  task = '2b' if '2' in item['block_type'] else '0b'\n",
        "  stim = item['stim_type'].lower()\n",
        "  return \"{}_{}\".format(task,stim)"
      ],
      "execution_count": 0,
      "outputs": []
    },
    {
      "cell_type": "code",
      "metadata": {
        "id": "mz6IkQgOejXC",
        "colab_type": "code",
        "colab": {}
      },
      "source": [
        "# Extract and save the task block series\n",
        "\n",
        "def extract_and_save_block_data(series, blocks):\n",
        "  for index, item in blocks.iterrows():\n",
        "    series_name = get_series_name(item)\n",
        "    block_data = series[item['start_index'] : item['end_index']]\n",
        "    print(series_name,\" of shape : \",block_data.shape)\n",
        "    np.save(series_name, block_data)"
      ],
      "execution_count": 0,
      "outputs": []
    },
    {
      "cell_type": "code",
      "metadata": {
        "id": "G0nHuaImfxLD",
        "colab_type": "code",
        "colab": {
          "base_uri": "https://localhost:8080/",
          "height": 153
        },
        "outputId": "df4dcb52-1220-4d8e-e507-2d688c9204d6"
      },
      "source": [
        "extract_and_save_block_data(series, blocks)"
      ],
      "execution_count": 51,
      "outputs": [
        {
          "output_type": "stream",
          "text": [
            "2b_body  of shape :  (19, 249518)\n",
            "0b_face  of shape :  (18, 249518)\n",
            "2b_tools  of shape :  (19, 249518)\n",
            "0b_body  of shape :  (19, 249518)\n",
            "0b_place  of shape :  (18, 249518)\n",
            "2b_face  of shape :  (19, 249518)\n",
            "0b_tools  of shape :  (19, 249518)\n",
            "2b_place  of shape :  (19, 249518)\n"
          ],
          "name": "stdout"
        }
      ]
    }
  ]
}